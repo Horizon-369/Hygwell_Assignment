{
  "nbformat": 4,
  "nbformat_minor": 0,
  "metadata": {
    "colab": {
      "provenance": []
    },
    "kernelspec": {
      "name": "python3",
      "display_name": "Python 3"
    },
    "language_info": {
      "name": "python"
    }
  },
  "cells": [
    {
      "cell_type": "markdown",
      "source": [
        "# Home Assignment-2"
      ],
      "metadata": {
        "id": "5Q0LD94dy8ng"
      }
    },
    {
      "cell_type": "markdown",
      "source": [
        "## 1. Total and Daily PageView Events"
      ],
      "metadata": {
        "id": "ObkaKTXhzHAx"
      }
    },
    {
      "cell_type": "code",
      "execution_count": 1,
      "metadata": {
        "colab": {
          "base_uri": "https://localhost:8080/",
          "height": 206
        },
        "id": "L6iEifsbvULM",
        "outputId": "75446a1b-eb1d-4a01-b357-daf470c9873b"
      },
      "outputs": [
        {
          "output_type": "execute_result",
          "data": {
            "text/plain": [
              "   event        date       country      city  \\\n",
              "0  click  2021-08-21  Saudi Arabia    Jeddah   \n",
              "1  click  2021-08-21  Saudi Arabia    Jeddah   \n",
              "2  click  2021-08-21         India  Ludhiana   \n",
              "3  click  2021-08-21        France   Unknown   \n",
              "4  click  2021-08-21      Maldives      Malé   \n",
              "\n",
              "                              artist          album          track  \\\n",
              "0                             Tesher    Jalebi Baby    Jalebi Baby   \n",
              "1                             Tesher    Jalebi Baby    Jalebi Baby   \n",
              "2                      Reyanna Maria      So Pretty      So Pretty   \n",
              "3  Simone & Simaria, Sebastian Yatra  No Llores Más  No Llores Más   \n",
              "4                             Tesher    Jalebi Baby    Jalebi Baby   \n",
              "\n",
              "           isrc                                linkid  \n",
              "0  QZNWQ2070741  2d896d31-97b6-4869-967b-1c5fb9cd4bb8  \n",
              "1  QZNWQ2070741  2d896d31-97b6-4869-967b-1c5fb9cd4bb8  \n",
              "2  USUM72100871  23199824-9cf5-4b98-942a-34965c3b0cc2  \n",
              "3  BRUM72003904  35573248-4e49-47c7-af80-08a960fa74cd  \n",
              "4  QZNWQ2070741  2d896d31-97b6-4869-967b-1c5fb9cd4bb8  "
            ],
            "text/html": [
              "\n",
              "  <div id=\"df-727a8bac-548a-4f45-abda-3b883fce1204\" class=\"colab-df-container\">\n",
              "    <div>\n",
              "<style scoped>\n",
              "    .dataframe tbody tr th:only-of-type {\n",
              "        vertical-align: middle;\n",
              "    }\n",
              "\n",
              "    .dataframe tbody tr th {\n",
              "        vertical-align: top;\n",
              "    }\n",
              "\n",
              "    .dataframe thead th {\n",
              "        text-align: right;\n",
              "    }\n",
              "</style>\n",
              "<table border=\"1\" class=\"dataframe\">\n",
              "  <thead>\n",
              "    <tr style=\"text-align: right;\">\n",
              "      <th></th>\n",
              "      <th>event</th>\n",
              "      <th>date</th>\n",
              "      <th>country</th>\n",
              "      <th>city</th>\n",
              "      <th>artist</th>\n",
              "      <th>album</th>\n",
              "      <th>track</th>\n",
              "      <th>isrc</th>\n",
              "      <th>linkid</th>\n",
              "    </tr>\n",
              "  </thead>\n",
              "  <tbody>\n",
              "    <tr>\n",
              "      <th>0</th>\n",
              "      <td>click</td>\n",
              "      <td>2021-08-21</td>\n",
              "      <td>Saudi Arabia</td>\n",
              "      <td>Jeddah</td>\n",
              "      <td>Tesher</td>\n",
              "      <td>Jalebi Baby</td>\n",
              "      <td>Jalebi Baby</td>\n",
              "      <td>QZNWQ2070741</td>\n",
              "      <td>2d896d31-97b6-4869-967b-1c5fb9cd4bb8</td>\n",
              "    </tr>\n",
              "    <tr>\n",
              "      <th>1</th>\n",
              "      <td>click</td>\n",
              "      <td>2021-08-21</td>\n",
              "      <td>Saudi Arabia</td>\n",
              "      <td>Jeddah</td>\n",
              "      <td>Tesher</td>\n",
              "      <td>Jalebi Baby</td>\n",
              "      <td>Jalebi Baby</td>\n",
              "      <td>QZNWQ2070741</td>\n",
              "      <td>2d896d31-97b6-4869-967b-1c5fb9cd4bb8</td>\n",
              "    </tr>\n",
              "    <tr>\n",
              "      <th>2</th>\n",
              "      <td>click</td>\n",
              "      <td>2021-08-21</td>\n",
              "      <td>India</td>\n",
              "      <td>Ludhiana</td>\n",
              "      <td>Reyanna Maria</td>\n",
              "      <td>So Pretty</td>\n",
              "      <td>So Pretty</td>\n",
              "      <td>USUM72100871</td>\n",
              "      <td>23199824-9cf5-4b98-942a-34965c3b0cc2</td>\n",
              "    </tr>\n",
              "    <tr>\n",
              "      <th>3</th>\n",
              "      <td>click</td>\n",
              "      <td>2021-08-21</td>\n",
              "      <td>France</td>\n",
              "      <td>Unknown</td>\n",
              "      <td>Simone &amp; Simaria, Sebastian Yatra</td>\n",
              "      <td>No Llores Más</td>\n",
              "      <td>No Llores Más</td>\n",
              "      <td>BRUM72003904</td>\n",
              "      <td>35573248-4e49-47c7-af80-08a960fa74cd</td>\n",
              "    </tr>\n",
              "    <tr>\n",
              "      <th>4</th>\n",
              "      <td>click</td>\n",
              "      <td>2021-08-21</td>\n",
              "      <td>Maldives</td>\n",
              "      <td>Malé</td>\n",
              "      <td>Tesher</td>\n",
              "      <td>Jalebi Baby</td>\n",
              "      <td>Jalebi Baby</td>\n",
              "      <td>QZNWQ2070741</td>\n",
              "      <td>2d896d31-97b6-4869-967b-1c5fb9cd4bb8</td>\n",
              "    </tr>\n",
              "  </tbody>\n",
              "</table>\n",
              "</div>\n",
              "    <div class=\"colab-df-buttons\">\n",
              "\n",
              "  <div class=\"colab-df-container\">\n",
              "    <button class=\"colab-df-convert\" onclick=\"convertToInteractive('df-727a8bac-548a-4f45-abda-3b883fce1204')\"\n",
              "            title=\"Convert this dataframe to an interactive table.\"\n",
              "            style=\"display:none;\">\n",
              "\n",
              "  <svg xmlns=\"http://www.w3.org/2000/svg\" height=\"24px\" viewBox=\"0 -960 960 960\">\n",
              "    <path d=\"M120-120v-720h720v720H120Zm60-500h600v-160H180v160Zm220 220h160v-160H400v160Zm0 220h160v-160H400v160ZM180-400h160v-160H180v160Zm440 0h160v-160H620v160ZM180-180h160v-160H180v160Zm440 0h160v-160H620v160Z\"/>\n",
              "  </svg>\n",
              "    </button>\n",
              "\n",
              "  <style>\n",
              "    .colab-df-container {\n",
              "      display:flex;\n",
              "      gap: 12px;\n",
              "    }\n",
              "\n",
              "    .colab-df-convert {\n",
              "      background-color: #E8F0FE;\n",
              "      border: none;\n",
              "      border-radius: 50%;\n",
              "      cursor: pointer;\n",
              "      display: none;\n",
              "      fill: #1967D2;\n",
              "      height: 32px;\n",
              "      padding: 0 0 0 0;\n",
              "      width: 32px;\n",
              "    }\n",
              "\n",
              "    .colab-df-convert:hover {\n",
              "      background-color: #E2EBFA;\n",
              "      box-shadow: 0px 1px 2px rgba(60, 64, 67, 0.3), 0px 1px 3px 1px rgba(60, 64, 67, 0.15);\n",
              "      fill: #174EA6;\n",
              "    }\n",
              "\n",
              "    .colab-df-buttons div {\n",
              "      margin-bottom: 4px;\n",
              "    }\n",
              "\n",
              "    [theme=dark] .colab-df-convert {\n",
              "      background-color: #3B4455;\n",
              "      fill: #D2E3FC;\n",
              "    }\n",
              "\n",
              "    [theme=dark] .colab-df-convert:hover {\n",
              "      background-color: #434B5C;\n",
              "      box-shadow: 0px 1px 3px 1px rgba(0, 0, 0, 0.15);\n",
              "      filter: drop-shadow(0px 1px 2px rgba(0, 0, 0, 0.3));\n",
              "      fill: #FFFFFF;\n",
              "    }\n",
              "  </style>\n",
              "\n",
              "    <script>\n",
              "      const buttonEl =\n",
              "        document.querySelector('#df-727a8bac-548a-4f45-abda-3b883fce1204 button.colab-df-convert');\n",
              "      buttonEl.style.display =\n",
              "        google.colab.kernel.accessAllowed ? 'block' : 'none';\n",
              "\n",
              "      async function convertToInteractive(key) {\n",
              "        const element = document.querySelector('#df-727a8bac-548a-4f45-abda-3b883fce1204');\n",
              "        const dataTable =\n",
              "          await google.colab.kernel.invokeFunction('convertToInteractive',\n",
              "                                                    [key], {});\n",
              "        if (!dataTable) return;\n",
              "\n",
              "        const docLinkHtml = 'Like what you see? Visit the ' +\n",
              "          '<a target=\"_blank\" href=https://colab.research.google.com/notebooks/data_table.ipynb>data table notebook</a>'\n",
              "          + ' to learn more about interactive tables.';\n",
              "        element.innerHTML = '';\n",
              "        dataTable['output_type'] = 'display_data';\n",
              "        await google.colab.output.renderOutput(dataTable, element);\n",
              "        const docLink = document.createElement('div');\n",
              "        docLink.innerHTML = docLinkHtml;\n",
              "        element.appendChild(docLink);\n",
              "      }\n",
              "    </script>\n",
              "  </div>\n",
              "\n",
              "\n",
              "<div id=\"df-cabc90eb-2e02-448f-b100-50ad55e3ce8d\">\n",
              "  <button class=\"colab-df-quickchart\" onclick=\"quickchart('df-cabc90eb-2e02-448f-b100-50ad55e3ce8d')\"\n",
              "            title=\"Suggest charts\"\n",
              "            style=\"display:none;\">\n",
              "\n",
              "<svg xmlns=\"http://www.w3.org/2000/svg\" height=\"24px\"viewBox=\"0 0 24 24\"\n",
              "     width=\"24px\">\n",
              "    <g>\n",
              "        <path d=\"M19 3H5c-1.1 0-2 .9-2 2v14c0 1.1.9 2 2 2h14c1.1 0 2-.9 2-2V5c0-1.1-.9-2-2-2zM9 17H7v-7h2v7zm4 0h-2V7h2v10zm4 0h-2v-4h2v4z\"/>\n",
              "    </g>\n",
              "</svg>\n",
              "  </button>\n",
              "\n",
              "<style>\n",
              "  .colab-df-quickchart {\n",
              "      --bg-color: #E8F0FE;\n",
              "      --fill-color: #1967D2;\n",
              "      --hover-bg-color: #E2EBFA;\n",
              "      --hover-fill-color: #174EA6;\n",
              "      --disabled-fill-color: #AAA;\n",
              "      --disabled-bg-color: #DDD;\n",
              "  }\n",
              "\n",
              "  [theme=dark] .colab-df-quickchart {\n",
              "      --bg-color: #3B4455;\n",
              "      --fill-color: #D2E3FC;\n",
              "      --hover-bg-color: #434B5C;\n",
              "      --hover-fill-color: #FFFFFF;\n",
              "      --disabled-bg-color: #3B4455;\n",
              "      --disabled-fill-color: #666;\n",
              "  }\n",
              "\n",
              "  .colab-df-quickchart {\n",
              "    background-color: var(--bg-color);\n",
              "    border: none;\n",
              "    border-radius: 50%;\n",
              "    cursor: pointer;\n",
              "    display: none;\n",
              "    fill: var(--fill-color);\n",
              "    height: 32px;\n",
              "    padding: 0;\n",
              "    width: 32px;\n",
              "  }\n",
              "\n",
              "  .colab-df-quickchart:hover {\n",
              "    background-color: var(--hover-bg-color);\n",
              "    box-shadow: 0 1px 2px rgba(60, 64, 67, 0.3), 0 1px 3px 1px rgba(60, 64, 67, 0.15);\n",
              "    fill: var(--button-hover-fill-color);\n",
              "  }\n",
              "\n",
              "  .colab-df-quickchart-complete:disabled,\n",
              "  .colab-df-quickchart-complete:disabled:hover {\n",
              "    background-color: var(--disabled-bg-color);\n",
              "    fill: var(--disabled-fill-color);\n",
              "    box-shadow: none;\n",
              "  }\n",
              "\n",
              "  .colab-df-spinner {\n",
              "    border: 2px solid var(--fill-color);\n",
              "    border-color: transparent;\n",
              "    border-bottom-color: var(--fill-color);\n",
              "    animation:\n",
              "      spin 1s steps(1) infinite;\n",
              "  }\n",
              "\n",
              "  @keyframes spin {\n",
              "    0% {\n",
              "      border-color: transparent;\n",
              "      border-bottom-color: var(--fill-color);\n",
              "      border-left-color: var(--fill-color);\n",
              "    }\n",
              "    20% {\n",
              "      border-color: transparent;\n",
              "      border-left-color: var(--fill-color);\n",
              "      border-top-color: var(--fill-color);\n",
              "    }\n",
              "    30% {\n",
              "      border-color: transparent;\n",
              "      border-left-color: var(--fill-color);\n",
              "      border-top-color: var(--fill-color);\n",
              "      border-right-color: var(--fill-color);\n",
              "    }\n",
              "    40% {\n",
              "      border-color: transparent;\n",
              "      border-right-color: var(--fill-color);\n",
              "      border-top-color: var(--fill-color);\n",
              "    }\n",
              "    60% {\n",
              "      border-color: transparent;\n",
              "      border-right-color: var(--fill-color);\n",
              "    }\n",
              "    80% {\n",
              "      border-color: transparent;\n",
              "      border-right-color: var(--fill-color);\n",
              "      border-bottom-color: var(--fill-color);\n",
              "    }\n",
              "    90% {\n",
              "      border-color: transparent;\n",
              "      border-bottom-color: var(--fill-color);\n",
              "    }\n",
              "  }\n",
              "</style>\n",
              "\n",
              "  <script>\n",
              "    async function quickchart(key) {\n",
              "      const quickchartButtonEl =\n",
              "        document.querySelector('#' + key + ' button');\n",
              "      quickchartButtonEl.disabled = true;  // To prevent multiple clicks.\n",
              "      quickchartButtonEl.classList.add('colab-df-spinner');\n",
              "      try {\n",
              "        const charts = await google.colab.kernel.invokeFunction(\n",
              "            'suggestCharts', [key], {});\n",
              "      } catch (error) {\n",
              "        console.error('Error during call to suggestCharts:', error);\n",
              "      }\n",
              "      quickchartButtonEl.classList.remove('colab-df-spinner');\n",
              "      quickchartButtonEl.classList.add('colab-df-quickchart-complete');\n",
              "    }\n",
              "    (() => {\n",
              "      let quickchartButtonEl =\n",
              "        document.querySelector('#df-cabc90eb-2e02-448f-b100-50ad55e3ce8d button');\n",
              "      quickchartButtonEl.style.display =\n",
              "        google.colab.kernel.accessAllowed ? 'block' : 'none';\n",
              "    })();\n",
              "  </script>\n",
              "</div>\n",
              "\n",
              "    </div>\n",
              "  </div>\n"
            ],
            "application/vnd.google.colaboratory.intrinsic+json": {
              "type": "dataframe",
              "variable_name": "df"
            }
          },
          "metadata": {},
          "execution_count": 1
        }
      ],
      "source": [
        "# Importing necessary libraries\n",
        "import pandas as pd\n",
        "\n",
        "# Load the dataset\n",
        "file_path = '/content/traffic.csv'\n",
        "df = pd.read_csv(file_path)\n",
        "\n",
        "# Display the first few rows of the dataset to understand its structure\n",
        "df.head()"
      ]
    },
    {
      "cell_type": "code",
      "source": [
        "# Calculate total pageview events\n",
        "total_pageviews = df.shape[0]\n",
        "\n",
        "# Calculate daily pageview events\n",
        "df['date'] = pd.to_datetime(df['date'])\n",
        "daily_pageviews = df.groupby('date').size()\n",
        "\n",
        "# Calculate average pageview events per day\n",
        "average_daily_pageviews = daily_pageviews.mean()\n",
        "\n",
        "# Output the results\n",
        "print(\"1. How many total pageview events did the links in the dataset receive during the entire period?\")\n",
        "print(f\"Ans:- Total Pageview Events: {total_pageviews}\")\n",
        "print(\"\\n2. What is the average number of pageview events per day?\")\n",
        "print(f\"Ans:- Average Daily Pageview Events: {average_daily_pageviews:.2f}\")"
      ],
      "metadata": {
        "colab": {
          "base_uri": "https://localhost:8080/"
        },
        "id": "M1TkdKHovzCy",
        "outputId": "57387ff0-48d8-472b-b58e-0c080ffd8087"
      },
      "execution_count": 26,
      "outputs": [
        {
          "output_type": "stream",
          "name": "stdout",
          "text": [
            "1. How many total pageview events did the links in the dataset receive during the entire period?\n",
            "Ans:- Total Pageview Events: 226278\n",
            "\n",
            "2. What is the average number of pageview events per day?\n",
            "Ans:- Average Daily Pageview Events: 32325.43\n"
          ]
        }
      ]
    },
    {
      "cell_type": "markdown",
      "source": [
        "## 2. Analysis of Other Events"
      ],
      "metadata": {
        "id": "TNdvp7ihyB0E"
      }
    },
    {
      "cell_type": "code",
      "source": [
        "# Count the total occurrences of each event type\n",
        "event_counts = df['event'].value_counts()\n",
        "\n",
        "# Display total counts and distribution of events\n",
        "print(\"1. What is the total count and distribution of other recorded events in the dataset?\")\n",
        "print(\"Ans:- Total Count and Distribution of Events:\")\n",
        "print(event_counts)"
      ],
      "metadata": {
        "colab": {
          "base_uri": "https://localhost:8080/"
        },
        "id": "chcKzYdm0PMP",
        "outputId": "475e4f9f-b744-46be-85e6-876ac6e61471"
      },
      "execution_count": 3,
      "outputs": [
        {
          "output_type": "stream",
          "name": "stdout",
          "text": [
            "1. What is the total count and distribution of other recorded events in the dataset?\n",
            "Ans:- Total Count and Distribution of Events:\n",
            "event\n",
            "pageview    142015\n",
            "click        55732\n",
            "preview      28531\n",
            "Name: count, dtype: int64\n"
          ]
        }
      ]
    },
    {
      "cell_type": "markdown",
      "source": [
        "## 3. Geographical Distribution"
      ],
      "metadata": {
        "id": "ezSlglhT0XjG"
      }
    },
    {
      "cell_type": "code",
      "source": [
        "# Count the total pageviews per country\n",
        "country_counts = df[df['event'] == 'pageview'].groupby('country').size()\n",
        "\n",
        "# Display the total pageviews by country\n",
        "print(\"Total Pageviews by Country:\")\n",
        "print(country_counts)\n",
        "\n",
        "# List of countries that contributed to pageviews\n",
        "countries = country_counts.index.tolist()\n",
        "\n",
        "print(\"\\nCountries that contributed to pageviews:\")\n",
        "print(countries)"
      ],
      "metadata": {
        "colab": {
          "base_uri": "https://localhost:8080/"
        },
        "id": "RKir57eU1Ga7",
        "outputId": "37a904b6-8897-402a-db76-1f9bfd9b9f83"
      },
      "execution_count": 21,
      "outputs": [
        {
          "output_type": "stream",
          "name": "stdout",
          "text": [
            "Total Pageviews by Country:\n",
            "country\n",
            "Afghanistan            2\n",
            "Albania              344\n",
            "Algeria              443\n",
            "American Samoa         3\n",
            "Andorra                2\n",
            "                    ... \n",
            "Wallis and Futuna      1\n",
            "Yemen                 49\n",
            "Zambia                68\n",
            "Zimbabwe              18\n",
            "Åland                  4\n",
            "Length: 211, dtype: int64\n",
            "\n",
            "Countries that contributed to pageviews:\n",
            "['Afghanistan', 'Albania', 'Algeria', 'American Samoa', 'Andorra', 'Angola', 'Anguilla', 'Antigua and Barbuda', 'Argentina', 'Armenia', 'Aruba', 'Australia', 'Austria', 'Azerbaijan', 'Bahamas', 'Bahrain', 'Bangladesh', 'Barbados', 'Belarus', 'Belgium', 'Belize', 'Benin', 'Bermuda', 'Bhutan', 'Bolivia', 'Bosnia and Herzegovina', 'Botswana', 'Brazil', 'British Virgin Islands', 'Brunei', 'Bulgaria', 'Burkina Faso', 'Burundi', 'Cabo Verde', 'Cambodia', 'Cameroon', 'Canada', 'Cayman Islands', 'Central African Republic', 'Chad', 'Chile', 'China', 'Colombia', 'Comoros', 'Congo Republic', 'Costa Rica', 'Croatia', 'Curaçao', 'Cyprus', 'Czechia', 'DR Congo', 'Denmark', 'Djibouti', 'Dominica', 'Dominican Republic', 'Ecuador', 'Egypt', 'El Salvador', 'Eritrea', 'Estonia', 'Eswatini', 'Ethiopia', 'Faroe Islands', 'Fiji', 'Finland', 'France', 'French Guiana', 'French Polynesia', 'Gabon', 'Gambia', 'Georgia', 'Germany', 'Ghana', 'Gibraltar', 'Greece', 'Greenland', 'Grenada', 'Guadeloupe', 'Guatemala', 'Guernsey', 'Guinea', 'Guinea-Bissau', 'Guyana', 'Haiti', 'Honduras', 'Hong Kong', 'Hungary', 'Iceland', 'India', 'Indonesia', 'Iran', 'Iraq', 'Ireland', 'Isle of Man', 'Israel', 'Italy', 'Ivory Coast', 'Jamaica', 'Japan', 'Jersey', 'Jordan', 'Kazakhstan', 'Kenya', 'Kosovo', 'Kuwait', 'Kyrgyzstan', 'Laos', 'Latvia', 'Lebanon', 'Lesotho', 'Liberia', 'Libya', 'Liechtenstein', 'Lithuania', 'Luxembourg', 'Macao', 'Madagascar', 'Malawi', 'Malaysia', 'Maldives', 'Mali', 'Malta', 'Marshall Islands', 'Martinique', 'Mauritania', 'Mauritius', 'Mayotte', 'Mexico', 'Moldova', 'Mongolia', 'Montenegro', 'Morocco', 'Mozambique', 'Myanmar', 'Namibia', 'Nepal', 'Netherlands', 'New Caledonia', 'New Zealand', 'Nicaragua', 'Niger', 'Nigeria', 'North Macedonia', 'Norway', 'Oman', 'Pakistan', 'Palau', 'Palestine', 'Panama', 'Papua New Guinea', 'Paraguay', 'Peru', 'Philippines', 'Poland', 'Portugal', 'Principality of Monaco', 'Puerto Rico', 'Qatar', 'Romania', 'Russia', 'Rwanda', 'Réunion', 'Saint Lucia', 'Saint Martin', 'Saint Vincent and the Grenadines', 'Samoa', 'Saudi Arabia', 'Senegal', 'Serbia', 'Seychelles', 'Sierra Leone', 'Singapore', 'Sint Maarten', 'Slovakia', 'Slovenia', 'Solomon Islands', 'Somalia', 'South Africa', 'South Korea', 'Spain', 'Sri Lanka', 'St Kitts and Nevis', 'Sudan', 'Suriname', 'Sweden', 'Switzerland', 'Syria', 'Taiwan', 'Tajikistan', 'Tanzania', 'Thailand', 'Togo', 'Trinidad and Tobago', 'Tunisia', 'Turkey', 'Turks and Caicos Islands', 'U.S. Virgin Islands', 'Uganda', 'Ukraine', 'United Arab Emirates', 'United Kingdom', 'United States', 'Uruguay', 'Uzbekistan', 'Venezuela', 'Vietnam', 'Wallis and Futuna', 'Yemen', 'Zambia', 'Zimbabwe', 'Åland']\n"
          ]
        }
      ]
    },
    {
      "cell_type": "markdown",
      "source": [
        "## 4. Click-Through Rate (CTR) Analysis"
      ],
      "metadata": {
        "id": "ir8rn6KO1VfN"
      }
    },
    {
      "cell_type": "code",
      "source": [
        "# First, we need to ensure we have counts of clicks and pageviews\n",
        "clicks_per_link = df[df['event'] == 'click'].groupby('linkid').size()\n",
        "pageviews_per_link = df[df['event'] == 'pageview'].groupby('linkid').size()\n",
        "\n",
        "# Create a DataFrame to combine clicks and pageviews\n",
        "ctr_data = pd.DataFrame({\n",
        "    'clicks': clicks_per_link,\n",
        "    'pageviews': pageviews_per_link\n",
        "}).fillna(0)  # Fill NaN values with 0 for links with no clicks or pageviews\n",
        "\n",
        "# Avoid division by zero when calculating CTR for links with 0 pageviews\n",
        "ctr_data['CTR'] = ctr_data['clicks'] / ctr_data['pageviews'].replace(0, 1)\n",
        "\n",
        "# Display the CTR data\n",
        "print(\"CTR for Each Link:\")\n",
        "print(ctr_data)\n",
        "\n",
        "# Calculate the overall CTR\n",
        "overall_ctr = ctr_data['clicks'].sum() / ctr_data['pageviews'].sum()\n",
        "\n",
        "# Output the overall CTR\n",
        "print(f\"Overall Click-Through Rate (CTR): {overall_ctr:.2%}\")"
      ],
      "metadata": {
        "colab": {
          "base_uri": "https://localhost:8080/"
        },
        "id": "8Cfxxi7J2rL3",
        "outputId": "dc293c15-0bcb-46c9-c046-ce0fc832481d"
      },
      "execution_count": 23,
      "outputs": [
        {
          "output_type": "stream",
          "name": "stdout",
          "text": [
            "CTR for Each Link:\n",
            "                                      clicks  pageviews  CTR\n",
            "linkid                                                      \n",
            "00073307-ae96-5089-a117-4783afb42f8e     0.0        2.0  0.0\n",
            "00126b32-0c35-507b-981c-02c80d2aa8e7     2.0        2.0  1.0\n",
            "0018cfff-50a1-5984-9715-01ef2d11a49a     0.0        1.0  0.0\n",
            "0033934b-5d16-5a06-af58-d087bcdd3680     0.0        1.0  0.0\n",
            "0034d6cf-3bd8-5ffe-aafc-b3959fc48608     0.0        1.0  0.0\n",
            "...                                      ...        ...  ...\n",
            "fff38ca0-8043-50cd-a5f1-f65ebb7105c5     1.0        1.0  1.0\n",
            "fff4e5f0-4ee5-5fe7-aa30-e870edaf6ed7     0.0        2.0  0.0\n",
            "fff84c0e-90a1-59d8-9997-adc909d50e16     1.0        1.0  1.0\n",
            "fffc17a7-f935-5d3e-bd3e-d761fd80d479     1.0        2.0  0.5\n",
            "fffd0045-29de-522b-b5d8-35786363bf07     1.0        2.0  0.5\n",
            "\n",
            "[3839 rows x 3 columns]\n",
            "Overall Click-Through Rate (CTR): 39.24%\n"
          ]
        }
      ]
    },
    {
      "cell_type": "markdown",
      "source": [
        "## 5. Correlation Analysis"
      ],
      "metadata": {
        "id": "dBK9Z7GB3-Hl"
      }
    },
    {
      "cell_type": "markdown",
      "source": [
        "### Is there a correlation between clicks and previews on a link? If so, is it statistically significant, and how strong is the effect?"
      ],
      "metadata": {
        "id": "-3znHK0FqF2W"
      }
    },
    {
      "cell_type": "code",
      "source": [
        "from scipy.stats import pearsonr\n",
        "\n",
        "# Prepare data for correlation analysis\n",
        "# Exclude links with zero pageviews as they don't contribute to meaningful correlation\n",
        "correlation_data = pd.DataFrame({\n",
        "    'clicks': clicks_per_link,\n",
        "    'pageviews': pageviews_per_link\n",
        "}).fillna(0)\n",
        "\n",
        "# Filter out entries where pageviews are zero\n",
        "correlation_data = correlation_data[correlation_data['pageviews'] > 0]\n",
        "\n",
        "# Calculate Pearson correlation\n",
        "pearson_corr, p_value = pearsonr(correlation_data['clicks'], correlation_data['pageviews'])\n",
        "\n",
        "# Output the Pearson correlation coefficient and p-value\n",
        "print(f\"Pearson Correlation Coefficient: {pearson_corr:.4f}\")\n",
        "print(f\"P-value: {p_value:.4f}\")\n",
        "\n",
        "# Check significance\n",
        "if p_value < 0.05:\n",
        "    print(\"The correlation is statistically significant.\")\n",
        "else:\n",
        "    print(\"The correlation is not statistically significant.\")\n"
      ],
      "metadata": {
        "colab": {
          "base_uri": "https://localhost:8080/"
        },
        "id": "vHNjM8om6JRj",
        "outputId": "7b066e25-62e4-467f-c346-7d4ff4d71189"
      },
      "execution_count": 24,
      "outputs": [
        {
          "output_type": "stream",
          "name": "stdout",
          "text": [
            "Pearson Correlation Coefficient: 0.9940\n",
            "P-value: 0.0000\n",
            "The correlation is statistically significant.\n"
          ]
        }
      ]
    },
    {
      "cell_type": "markdown",
      "source": [
        "###  Perform tests for both potential linear relationships and categorical (binary) relationships between these variables."
      ],
      "metadata": {
        "id": "xZinK-AOqPaj"
      }
    },
    {
      "cell_type": "code",
      "source": [
        "from scipy.stats import chi2_contingency\n",
        "\n",
        "# Create a DataFrame for the analysis\n",
        "correlation_data = pd.DataFrame({\n",
        "    'clicks': clicks_per_link,\n",
        "    'pageviews': pageviews_per_link\n",
        "}).fillna(0)\n",
        "\n",
        "# Create a binary variable for whether the link was clicked or not\n",
        "correlation_data['clicked'] = (correlation_data['clicks'] > 0).astype(int)\n",
        "\n",
        "# Create a binary variable for whether the link had any pageviews\n",
        "correlation_data['has_pageviews'] = (correlation_data['pageviews'] > 0).astype(int)\n",
        "\n",
        "# Create a contingency table\n",
        "contingency_table = pd.crosstab(correlation_data['clicked'], correlation_data['has_pageviews'])\n",
        "\n",
        "# Perform the Chi-squared test\n",
        "chi2, p_chi2, _, _ = chi2_contingency(contingency_table)\n",
        "\n",
        "# Output the Chi-squared test results\n",
        "print(f\"Chi-squared Statistic: {chi2:.4f}\")\n",
        "print(f\"P-value (Chi-squared Test): {p_chi2:.4f}\")\n",
        "\n",
        "# Check significance\n",
        "if p_chi2 < 0.05:\n",
        "    print(\"There is a significant categorical relationship between clicks and pageviews.\")\n",
        "else:\n",
        "    print(\"There is no significant categorical relationship between clicks and pageviews.\")\n"
      ],
      "metadata": {
        "id": "7xg2eGHg6dV_",
        "colab": {
          "base_uri": "https://localhost:8080/"
        },
        "outputId": "86ce4e3d-40a1-4723-e19e-8c33498f6ce2"
      },
      "execution_count": 25,
      "outputs": [
        {
          "output_type": "stream",
          "name": "stdout",
          "text": [
            "Chi-squared Statistic: 0.2183\n",
            "P-value (Chi-squared Test): 0.6403\n",
            "There is no significant categorical relationship between clicks and pageviews.\n"
          ]
        }
      ]
    },
    {
      "cell_type": "code",
      "source": [],
      "metadata": {
        "id": "0RVluTeFp9_S"
      },
      "execution_count": null,
      "outputs": []
    }
  ]
}